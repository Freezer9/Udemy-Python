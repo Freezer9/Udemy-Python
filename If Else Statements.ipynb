{
 "cells": [
  {
   "cell_type": "code",
   "execution_count": 6,
   "id": "aa46093c",
   "metadata": {},
   "outputs": [
    {
     "name": "stdout",
     "output_type": "stream",
     "text": [
      "a is less than b\n",
      "a is definitely less than b\n",
      "not sure if a is less than b\n"
     ]
    }
   ],
   "source": [
    "a=1\n",
    "b=2\n",
    "if a < b:\n",
    "    print('a is less than b')\n",
    "    print('a is definitely less than b')\n",
    "print('not sure if a is less than b')"
   ]
  },
  {
   "cell_type": "code",
   "execution_count": 12,
   "id": "0b0a10fb",
   "metadata": {},
   "outputs": [
    {
     "name": "stdout",
     "output_type": "stream",
     "text": [
      "c is NOT less than d\n",
      "I dont think c is less than d\n",
      "outside the if block\n"
     ]
    }
   ],
   "source": [
    "c = 5\n",
    "d = 4\n",
    "if c < d:\n",
    "    print('c is less than d')\n",
    "else:\n",
    "    print('c is NOT less than d')\n",
    "    print('I dont think c is less than d')\n",
    "print('outside the if block')"
   ]
  },
  {
   "cell_type": "code",
   "execution_count": 21,
   "id": "0ea93834",
   "metadata": {},
   "outputs": [
    {
     "name": "stdout",
     "output_type": "stream",
     "text": [
      "e is more than f by 10 times\n"
     ]
    }
   ],
   "source": [
    "e = 19\n",
    "f = 8\n",
    "if e < f:\n",
    "    print('e is less than f')\n",
    "elif e == f:\n",
    "    print('e is equal to f')\n",
    "elif e > f + 10:\n",
    "    print('e is more than f by 10 times')\n",
    "else:\n",
    "    print('e is more than f')"
   ]
  },
  {
   "cell_type": "code",
   "execution_count": 25,
   "id": "738b73b6",
   "metadata": {},
   "outputs": [
    {
     "name": "stdout",
     "output_type": "stream",
     "text": [
      "g is more than h\n"
     ]
    }
   ],
   "source": [
    "g=9\n",
    "h=8\n",
    "if g < h:\n",
    "    print('g is less than h')\n",
    "else:\n",
    "    if g == h:\n",
    "        print('g is equal to h')\n",
    "    else:\n",
    "        print('g is more than h')"
   ]
  },
  {
   "cell_type": "code",
   "execution_count": 32,
   "id": "1cd5b026",
   "metadata": {},
   "outputs": [
    {
     "name": "stdout",
     "output_type": "stream",
     "text": [
      "bmi:\n",
      "20.13434400069182\n",
      "aku\n",
      "is not overweight\n"
     ]
    }
   ],
   "source": [
    "name = 'aku'\n",
    "height_m=1.8\n",
    "weight_kg=58\n",
    "\n",
    "bmi= weight_kg / (height_m ** 1.8)\n",
    "print('bmi:')\n",
    "print(bmi)\n",
    "if bmi < 25:\n",
    "    print(name)\n",
    "    print('is not overweight')\n",
    "else:\n",
    "    print(name)\n",
    "    print('is overweight')"
   ]
  }
 ],
 "metadata": {
  "kernelspec": {
   "display_name": "Python 3",
   "language": "python",
   "name": "python3"
  },
  "language_info": {
   "codemirror_mode": {
    "name": "ipython",
    "version": 3
   },
   "file_extension": ".py",
   "mimetype": "text/x-python",
   "name": "python",
   "nbconvert_exporter": "python",
   "pygments_lexer": "ipython3",
   "version": "3.8.8"
  }
 },
 "nbformat": 4,
 "nbformat_minor": 5
}
