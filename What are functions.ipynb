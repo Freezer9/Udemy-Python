{
 "cells": [
  {
   "cell_type": "code",
   "execution_count": 1,
   "id": "dd4c8cbd",
   "metadata": {},
   "outputs": [
    {
     "name": "stdout",
     "output_type": "stream",
     "text": [
      "this is outside the function\n"
     ]
    }
   ],
   "source": [
    "#a collection of instructions\n",
    "#a collection of code\n",
    "def functions1():\n",
    "    print(\"ahhhh\")\n",
    "    print(\"ahhhhh 2\") \n",
    "print (\"this is outside the function\")"
   ]
  },
  {
   "cell_type": "code",
   "execution_count": 3,
   "id": "a6445c8c",
   "metadata": {},
   "outputs": [
    {
     "name": "stdout",
     "output_type": "stream",
     "text": [
      "ahhhh\n",
      "ahhhhh 2\n"
     ]
    }
   ],
   "source": [
    "functions1()"
   ]
  },
  {
   "cell_type": "code",
   "execution_count": 4,
   "id": "f0ec7efa",
   "metadata": {},
   "outputs": [
    {
     "name": "stdout",
     "output_type": "stream",
     "text": [
      "ahhhh\n",
      "ahhhhh 2\n",
      "ahhhh\n",
      "ahhhhh 2\n"
     ]
    }
   ],
   "source": [
    "functions1()\n",
    "functions1()"
   ]
  },
  {
   "cell_type": "code",
   "execution_count": 5,
   "id": "8d618f1e",
   "metadata": {},
   "outputs": [],
   "source": [
    "# a mapping\n",
    "# input or an argument\n",
    "def function2(x):\n",
    "    return 2*x"
   ]
  },
  {
   "cell_type": "code",
   "execution_count": 7,
   "id": "f02f8200",
   "metadata": {},
   "outputs": [],
   "source": [
    "a = function2(3)\n",
    "# return value or output"
   ]
  },
  {
   "cell_type": "code",
   "execution_count": 8,
   "id": "b3b5a495",
   "metadata": {},
   "outputs": [
    {
     "name": "stdout",
     "output_type": "stream",
     "text": [
      "6\n"
     ]
    }
   ],
   "source": [
    "print(a)"
   ]
  },
  {
   "cell_type": "code",
   "execution_count": 10,
   "id": "34250b2d",
   "metadata": {},
   "outputs": [
    {
     "name": "stdout",
     "output_type": "stream",
     "text": [
      "8\n"
     ]
    }
   ],
   "source": [
    "b = function2(4)\n",
    "print(b)"
   ]
  },
  {
   "cell_type": "code",
   "execution_count": 11,
   "id": "0b2fd9ec",
   "metadata": {},
   "outputs": [],
   "source": [
    "def function3(x, y):\n",
    "    return x + y"
   ]
  },
  {
   "cell_type": "code",
   "execution_count": 13,
   "id": "210ca2ff",
   "metadata": {},
   "outputs": [
    {
     "name": "stdout",
     "output_type": "stream",
     "text": [
      "4\n"
     ]
    }
   ],
   "source": [
    "e = function3 (1, 3)\n",
    "print(e)"
   ]
  },
  {
   "cell_type": "code",
   "execution_count": 14,
   "id": "bbec613f",
   "metadata": {},
   "outputs": [],
   "source": [
    "def function4(x):\n",
    "    print(x)\n",
    "    print('still in this function')\n",
    "    return 3*x"
   ]
  },
  {
   "cell_type": "code",
   "execution_count": 15,
   "id": "6e5328ab",
   "metadata": {},
   "outputs": [
    {
     "name": "stdout",
     "output_type": "stream",
     "text": [
      "4\n",
      "still in this function\n"
     ]
    }
   ],
   "source": [
    "f = function4(4)"
   ]
  },
  {
   "cell_type": "code",
   "execution_count": 16,
   "id": "764f8801",
   "metadata": {},
   "outputs": [
    {
     "name": "stdout",
     "output_type": "stream",
     "text": [
      "12\n"
     ]
    }
   ],
   "source": [
    "print(f)"
   ]
  },
  {
   "cell_type": "code",
   "execution_count": 17,
   "id": "a0312b11",
   "metadata": {},
   "outputs": [],
   "source": [
    "def function5(some_argument):\n",
    "    print(some_argument)\n",
    "    print('weeee')"
   ]
  },
  {
   "cell_type": "code",
   "execution_count": 18,
   "id": "c6645a68",
   "metadata": {},
   "outputs": [
    {
     "name": "stdout",
     "output_type": "stream",
     "text": [
      "4\n",
      "weeee\n"
     ]
    }
   ],
   "source": [
    "function5(4)"
   ]
  },
  {
   "cell_type": "code",
   "execution_count": 19,
   "id": "b6f38114",
   "metadata": {},
   "outputs": [],
   "source": [
    "#BMI calculator\n",
    "name1 = 'YK'\n",
    "height_m1 = 2\n",
    "weight_kg1 = 90\n",
    "\n",
    "name2= 'YK sister'\n",
    "height_m2 = 1.8\n",
    "weight_kg2 = 70\n",
    "\n",
    "name3 = 'YK brother'\n",
    "height_m3 = 2.5\n",
    "weight_kg3 = 160"
   ]
  },
  {
   "cell_type": "code",
   "execution_count": 21,
   "id": "2073a83e",
   "metadata": {},
   "outputs": [],
   "source": [
    "def bmi_calculator(name, height_m, weight_kg):\n",
    "    bmi = weight_kg / (height_m ** 2)\n",
    "    print('bmi:')\n",
    "    print(bmi)\n",
    "    if bmi < 25:\n",
    "        return name + 'not overweight'\n",
    "    else:\n",
    "        return name + 'is overweight'"
   ]
  },
  {
   "cell_type": "code",
   "execution_count": 22,
   "id": "20cc6400",
   "metadata": {},
   "outputs": [
    {
     "name": "stdout",
     "output_type": "stream",
     "text": [
      "bmi:\n",
      "22.5\n",
      "bmi:\n",
      "21.604938271604937\n",
      "bmi:\n",
      "25.6\n"
     ]
    }
   ],
   "source": [
    "result1 = bmi_calculator(name1, height_m1, weight_kg1)\n",
    "result2 = bmi_calculator(name2, height_m2, weight_kg2)\n",
    "result3 = bmi_calculator(name3, height_m3, weight_kg3)"
   ]
  },
  {
   "cell_type": "code",
   "execution_count": 23,
   "id": "fc56958c",
   "metadata": {},
   "outputs": [
    {
     "name": "stdout",
     "output_type": "stream",
     "text": [
      "YKnot overweight\n",
      "YK sisternot overweight\n",
      "YK brotheris overweight\n"
     ]
    }
   ],
   "source": [
    "print(result1)\n",
    "print(result2)\n",
    "print(result3)"
   ]
  },
  {
   "cell_type": "code",
   "execution_count": null,
   "id": "360ca5c6",
   "metadata": {},
   "outputs": [],
   "source": [
    "km = convert(miles)\n",
    "#km = 1.6 * miles"
   ]
  }
 ],
 "metadata": {
  "kernelspec": {
   "display_name": "Python 3",
   "language": "python",
   "name": "python3"
  },
  "language_info": {
   "codemirror_mode": {
    "name": "ipython",
    "version": 3
   },
   "file_extension": ".py",
   "mimetype": "text/x-python",
   "name": "python",
   "nbconvert_exporter": "python",
   "pygments_lexer": "ipython3",
   "version": "3.8.8"
  }
 },
 "nbformat": 4,
 "nbformat_minor": 5
}
